{
  "nbformat": 4,
  "nbformat_minor": 0,
  "metadata": {
    "colab": {
      "provenance": []
    },
    "kernelspec": {
      "name": "python3",
      "display_name": "Python 3"
    },
    "language_info": {
      "name": "python"
    }
  },
  "cells": [
    {
      "cell_type": "markdown",
      "source": [
        "**Name: Adnan Kabir**\n",
        "\n",
        "**ID : 23201221**\n",
        "\n",
        "***p = 3***\n",
        "\n",
        "***q = 1***"
      ],
      "metadata": {
        "id": "1vwtj5sdj41W"
      }
    },
    {
      "cell_type": "markdown",
      "source": [
        "**Question-1 (a)**"
      ],
      "metadata": {
        "id": "x3MBy3CtlX6G"
      }
    },
    {
      "cell_type": "code",
      "execution_count": 27,
      "metadata": {
        "colab": {
          "base_uri": "https://localhost:8080/",
          "height": 537
        },
        "id": "3dBakteDj1SD",
        "outputId": "d06ce5d0-e20b-4a13-b8a2-54b50c8f97a9"
      },
      "outputs": [
        {
          "output_type": "stream",
          "name": "stdout",
          "text": [
            "Ans no: 01(a)\n",
            "========================\n",
            "f(x)=p**x*exp(-sin(x**p))\n",
            "\n",
            "Given Equatiion\n"
          ]
        },
        {
          "output_type": "display_data",
          "data": {
            "text/plain": [
              "p**x*exp(-sin(x**p))"
            ],
            "text/latex": "$\\displaystyle p^{x} e^{- \\sin{\\left(x^{p} \\right)}}$"
          },
          "metadata": {}
        },
        {
          "output_type": "stream",
          "name": "stdout",
          "text": [
            "\n",
            "After putting p = 3\n"
          ]
        },
        {
          "output_type": "display_data",
          "data": {
            "text/plain": [
              "3**x*exp(-sin(x**3))"
            ],
            "text/latex": "$\\displaystyle 3^{x} e^{- \\sin{\\left(x^{3} \\right)}}$"
          },
          "metadata": {}
        },
        {
          "output_type": "stream",
          "name": "stdout",
          "text": [
            "\n",
            "After 1st Derivative\n"
          ]
        },
        {
          "output_type": "display_data",
          "data": {
            "text/plain": [
              "-3*3**x*x**2*exp(-sin(x**3))*cos(x**3) + 3**x*exp(-sin(x**3))*log(3)"
            ],
            "text/latex": "$\\displaystyle - 3 \\cdot 3^{x} x^{2} e^{- \\sin{\\left(x^{3} \\right)}} \\cos{\\left(x^{3} \\right)} + 3^{x} e^{- \\sin{\\left(x^{3} \\right)}} \\log{\\left(3 \\right)}$"
          },
          "metadata": {}
        },
        {
          "output_type": "stream",
          "name": "stdout",
          "text": [
            "\n",
            "After 2nd Derivative\n"
          ]
        },
        {
          "output_type": "display_data",
          "data": {
            "text/plain": [
              "3**x*(-6*x**2*log(3)*cos(x**3) + 3*x*(3*x**3*sin(x**3) + 3*x**3*cos(x**3)**2 - 2*cos(x**3)) + log(3)**2)*exp(-sin(x**3))"
            ],
            "text/latex": "$\\displaystyle 3^{x} \\left(- 6 x^{2} \\log{\\left(3 \\right)} \\cos{\\left(x^{3} \\right)} + 3 x \\left(3 x^{3} \\sin{\\left(x^{3} \\right)} + 3 x^{3} \\cos^{2}{\\left(x^{3} \\right)} - 2 \\cos{\\left(x^{3} \\right)}\\right) + \\log{\\left(3 \\right)}^{2}\\right) e^{- \\sin{\\left(x^{3} \\right)}}$"
          },
          "metadata": {}
        },
        {
          "output_type": "stream",
          "name": "stdout",
          "text": [
            "Calculating Values\n",
            "\n",
            "For 1st Derivative\n",
            "--Calculating With x= π/3 \n",
            "df = -1.71176823345224 + 1.26916962998329*log(3)\n",
            "--Calculating With x= 2π/3 \n",
            "df = 7.88867498344571*log(3) + 100.891055078346\n",
            "\n",
            "For 2nd Derivative\n",
            "--Calculating With x= π/3 \n",
            "dff = -3.42353646690448*log(3) + 1.26916962998329*log(3)**2 + 11.5685731039439\n",
            "--Calculating With x= 2π/3 \n",
            "dff = 7.88867498344571*log(3)**2 + 201.782110156692*log(3) + 1708.39073783992\n"
          ]
        }
      ],
      "source": [
        "from sympy import *\n",
        "import math\n",
        "import numpy as np\n",
        "print(\"Ans no: 01(a)\")\n",
        "print('========================')\n",
        "\n",
        "\n",
        "x , p = symbols('x , p')\n",
        "f = (p**x)*(exp(-sin(x**p)))\n",
        "print(f\"f(x)={(p**x)*(exp(-sin(x**p)))}\")\n",
        "print()\n",
        "print ('Given Equatiion')\n",
        "display(f)\n",
        "print()\n",
        "print ('After putting p = 3')\n",
        "f = f.subs(p , 3)\n",
        "display(f)\n",
        "print()\n",
        "print('After 1st Derivative')\n",
        "df = diff(f , x)\n",
        "display (df)\n",
        "print()\n",
        "print('After 2nd Derivative')\n",
        "dff = diff(f , x ,2)\n",
        "display(dff)\n",
        "print('Calculating Values')\n",
        "print()\n",
        "print('For 1st Derivative')\n",
        "print(\"--Calculating With x= π/3 \")\n",
        "print(\"df =\" ,df.subs(x , np.pi/3))\n",
        "print(\"--Calculating With x= 2π/3 \")\n",
        "print(\"df =\" ,df.subs(x , (2*np.pi)/3))\n",
        "print()\n",
        "print('For 2nd Derivative')\n",
        "print(\"--Calculating With x= π/3 \")\n",
        "print(\"dff =\" ,dff.subs(x , np.pi/3))\n",
        "print(\"--Calculating With x= 2π/3 \")\n",
        "print(\"dff =\" ,dff.subs(x , (2*np.pi)/3))\n"
      ]
    },
    {
      "cell_type": "code",
      "source": [
        "from sympy import *\n",
        "import math\n",
        "import numpy as np\n",
        "print(\"Ans to the ques no: 01(a)\")\n",
        "print('========================')\n",
        "x , p , q = symbols('x , p , q')\n",
        "f = (q+(tan(x))**p)/(1+(cos(x))**2)\n",
        "print(f\"g(x)={(q+(tan(x))**p)/(1+(cos(x))**2)}\")\n",
        "print()\n",
        "print ('Given Equatiion')\n",
        "display(f)\n",
        "print()\n",
        "print ('After putting p = 3 and q = 1')\n",
        "\n",
        "x = Symbol('x')\n",
        "f = (1+(tan(x))**3)/(1+(cos(x))**2)\n",
        "display(f)\n",
        "print()\n",
        "print('After 1st Derivative')\n",
        "print()\n",
        "df = diff(f , x)\n",
        "display (df)\n",
        "print()\n",
        "print('After 2nd Derivative')\n",
        "print()\n",
        "dff = diff(f , x ,2)\n",
        "display(dff)\n",
        "print('Calculating Values')\n",
        "print()\n",
        "print('For 1st Derivative')\n",
        "print()\n",
        "print(\"--Calculating With x= π/3 \")\n",
        "print()\n",
        "print(\"df =\" ,df.subs(x , np.pi/3))\n",
        "print(\"--Calculating With x= 2π/3 \")\n",
        "print()\n",
        "print(\"df =\" ,df.subs(x , (2*np.pi)/3))\n",
        "print('For 2nd Derivative')\n",
        "print()\n",
        "print(\"--Calculating With x= π/3 \")\n",
        "print()\n",
        "print(\"dff =\" ,dff.subs(x , np.pi/3))\n",
        "print(\"--Calculating With x= 2π/3 \")\n",
        "print()\n",
        "print(\"dff =\" ,dff.subs(x , (2*np.pi)/3))"
      ],
      "metadata": {
        "colab": {
          "base_uri": "https://localhost:8080/",
          "height": 745
        },
        "id": "oflYqHnJkafm",
        "outputId": "1ae8a3fe-a05a-4079-d77c-577583f70364"
      },
      "execution_count": 30,
      "outputs": [
        {
          "output_type": "stream",
          "name": "stdout",
          "text": [
            "Ans to the ques no: 01(a)\n",
            "========================\n",
            "g(x)=(q + tan(x)**p)/(cos(x)**2 + 1)\n",
            "\n",
            "Given Equatiion\n"
          ]
        },
        {
          "output_type": "display_data",
          "data": {
            "text/plain": [
              "'g(x)=(q + tan(x)**p)/(cos(x)**2 + 1)'"
            ],
            "application/vnd.google.colaboratory.intrinsic+json": {
              "type": "string"
            }
          },
          "metadata": {}
        },
        {
          "output_type": "stream",
          "name": "stdout",
          "text": [
            "\n",
            "After putting p = 3 and q = 1\n"
          ]
        },
        {
          "output_type": "display_data",
          "data": {
            "text/plain": [
              "(tan(x)**3 + 1)/(cos(x)**2 + 1)"
            ],
            "text/latex": "$\\displaystyle \\frac{\\tan^{3}{\\left(x \\right)} + 1}{\\cos^{2}{\\left(x \\right)} + 1}$"
          },
          "metadata": {}
        },
        {
          "output_type": "stream",
          "name": "stdout",
          "text": [
            "\n",
            "After 1st Derivative\n",
            "\n"
          ]
        },
        {
          "output_type": "display_data",
          "data": {
            "text/plain": [
              "(3*tan(x)**2 + 3)*tan(x)**2/(cos(x)**2 + 1) + 2*(tan(x)**3 + 1)*sin(x)*cos(x)/(cos(x)**2 + 1)**2"
            ],
            "text/latex": "$\\displaystyle \\frac{\\left(3 \\tan^{2}{\\left(x \\right)} + 3\\right) \\tan^{2}{\\left(x \\right)}}{\\cos^{2}{\\left(x \\right)} + 1} + \\frac{2 \\left(\\tan^{3}{\\left(x \\right)} + 1\\right) \\sin{\\left(x \\right)} \\cos{\\left(x \\right)}}{\\left(\\cos^{2}{\\left(x \\right)} + 1\\right)^{2}}$"
          },
          "metadata": {}
        },
        {
          "output_type": "stream",
          "name": "stdout",
          "text": [
            "\n",
            "After 2nd Derivative\n",
            "\n"
          ]
        },
        {
          "output_type": "display_data",
          "data": {
            "text/plain": [
              "2*(3*(tan(x)**2 + 1)*(2*tan(x)**2 + 1)*tan(x) + 6*(tan(x)**2 + 1)*sin(x)*cos(x)*tan(x)**2/(cos(x)**2 + 1) + (tan(x)**3 + 1)*(-sin(x)**2 + cos(x)**2 + 4*sin(x)**2*cos(x)**2/(cos(x)**2 + 1))/(cos(x)**2 + 1))/(cos(x)**2 + 1)"
            ],
            "text/latex": "$\\displaystyle \\frac{2 \\cdot \\left(3 \\left(\\tan^{2}{\\left(x \\right)} + 1\\right) \\left(2 \\tan^{2}{\\left(x \\right)} + 1\\right) \\tan{\\left(x \\right)} + \\frac{6 \\left(\\tan^{2}{\\left(x \\right)} + 1\\right) \\sin{\\left(x \\right)} \\cos{\\left(x \\right)} \\tan^{2}{\\left(x \\right)}}{\\cos^{2}{\\left(x \\right)} + 1} + \\frac{\\left(\\tan^{3}{\\left(x \\right)} + 1\\right) \\left(- \\sin^{2}{\\left(x \\right)} + \\cos^{2}{\\left(x \\right)} + \\frac{4 \\sin^{2}{\\left(x \\right)} \\cos^{2}{\\left(x \\right)}}{\\cos^{2}{\\left(x \\right)} + 1}\\right)}{\\cos^{2}{\\left(x \\right)} + 1}\\right)}{\\cos^{2}{\\left(x \\right)} + 1}$"
          },
          "metadata": {}
        },
        {
          "output_type": "stream",
          "name": "stdout",
          "text": [
            "Calculating Values\n",
            "\n",
            "For 1st Derivative\n",
            "\n",
            "--Calculating With x= π/3 \n",
            "\n",
            "df = 32.2342562584220\n",
            "--Calculating With x= 2π/3 \n",
            "\n",
            "df = 31.1257437415780\n",
            "For 2nd Derivative\n",
            "\n",
            "--Calculating With x= π/3 \n",
            "\n",
            "dff = 273.487186653750\n",
            "--Calculating With x= 2π/3 \n",
            "\n",
            "dff = -273.231186653751\n"
          ]
        }
      ]
    },
    {
      "cell_type": "markdown",
      "source": [
        "**Question-1(b)**"
      ],
      "metadata": {
        "id": "8XxCV825lh5t"
      }
    },
    {
      "cell_type": "code",
      "source": [
        "from sympy import *\n",
        "import math\n",
        "import numpy as np\n",
        "print(\"Ans to the ques no: 01(b)\")\n",
        "print('========================')\n",
        "x , p , q = symbols('x , p , q')\n",
        "y = sin(p*x)\n",
        "print()\n",
        "print ('Given Equatiion')\n",
        "print(\"y =\", y)\n",
        "print()\n",
        "print('After 1st Derivative')\n",
        "y1 = diff(y , x)\n",
        "display(y1)\n",
        "print(\"y1 =\", y1)\n",
        "print()\n",
        "print('After 2nd Derivative')\n",
        "y2 = diff(y , x , 2)\n",
        "display(y2)\n",
        "print(\"y2 =\", y2)\n",
        "print()\n",
        "print(\"                      (a)          \")\n",
        "print()\n",
        "print ('Given Equatiion')\n",
        "print(\"f = y2 + 3y1 − qy\\nThus, f =\")\n",
        "f = (y2) + (3*y1) - (q*y)\n",
        "display(f)\n",
        "print()\n",
        "print ('After putting p = 3 and q = 1')\n",
        "f = f.subs(p , 3)\n",
        "f = f.subs(q , 1)\n",
        "display(f)\n",
        "print()\n",
        "print(\"                      (b)          \")\n",
        "print()\n",
        "print('After 1st Derivative')\n",
        "df = diff(f , x)\n",
        "display (df)\n",
        "print()\n",
        "print('After 2nd Derivative')\n",
        "dff = diff(f , x ,2)\n",
        "display(dff)\n",
        "i = Interval(((-3*np.pi)/2) , ((5*np.pi)/2))\n",
        "disp_roots = solveset(df , x , i)\n",
        "print()\n",
        "print ('The roots of given equations are :' )\n",
        "display (disp_roots)\n",
        "print()\n",
        "print('Results')\n",
        "for index in disp_roots :\n",
        "    if np.imag(complex(index)) != 0 :\n",
        "        print (f'No extremum for x = {index}')\n",
        "    elif dff.subs(x , index) < 0 :\n",
        "        print(f'Maxima = {f.subs(x , index)} for x = {index}')\n",
        "    else :\n",
        "        print(f'Minima = {f.subs(x , index)} for x = {index}')\n",
        "print()\n",
        "print(\"Plotting\")\n",
        "graph = plot((f), (df) , (x ,((-3*np.pi)/2) , ((5*np.pi)/2)) , title = \"f and f'\" , xlabel = 'x' , y = \"f(x)\" , show = False )\n",
        "graph[0].line_color = 'g'\n",
        "graph[1].line_color = 'r'\n",
        "graph.show()"
      ],
      "metadata": {
        "colab": {
          "base_uri": "https://localhost:8080/",
          "height": 1000
        },
        "id": "yV0sjJu3lmy-",
        "outputId": "df5fcfec-13d1-4df9-fbff-33aabeccde37"
      },
      "execution_count": 45,
      "outputs": [
        {
          "output_type": "stream",
          "name": "stdout",
          "text": [
            "Ans to the ques no: 01(b)\n",
            "========================\n",
            "\n",
            "Given Equatiion\n",
            "y = sin(p*x)\n",
            "\n",
            "After 1st Derivative\n"
          ]
        },
        {
          "output_type": "display_data",
          "data": {
            "text/plain": [
              "p*cos(p*x)"
            ],
            "text/latex": "$\\displaystyle p \\cos{\\left(p x \\right)}$"
          },
          "metadata": {}
        },
        {
          "output_type": "stream",
          "name": "stdout",
          "text": [
            "y1 = p*cos(p*x)\n",
            "\n",
            "After 2nd Derivative\n"
          ]
        },
        {
          "output_type": "display_data",
          "data": {
            "text/plain": [
              "-p**2*sin(p*x)"
            ],
            "text/latex": "$\\displaystyle - p^{2} \\sin{\\left(p x \\right)}$"
          },
          "metadata": {}
        },
        {
          "output_type": "stream",
          "name": "stdout",
          "text": [
            "y2 = -p**2*sin(p*x)\n",
            "\n",
            "                      (a)          \n",
            "\n",
            "Given Equatiion\n",
            "f = y2 + 3y1 − qy\n",
            "Thus, f =\n"
          ]
        },
        {
          "output_type": "display_data",
          "data": {
            "text/plain": [
              "-p**2*sin(p*x) + 3*p*cos(p*x) - q*sin(p*x)"
            ],
            "text/latex": "$\\displaystyle - p^{2} \\sin{\\left(p x \\right)} + 3 p \\cos{\\left(p x \\right)} - q \\sin{\\left(p x \\right)}$"
          },
          "metadata": {}
        },
        {
          "output_type": "stream",
          "name": "stdout",
          "text": [
            "\n",
            "After putting p = 3 and q = 1\n"
          ]
        },
        {
          "output_type": "display_data",
          "data": {
            "text/plain": [
              "-10*sin(3*x) + 9*cos(3*x)"
            ],
            "text/latex": "$\\displaystyle - 10 \\sin{\\left(3 x \\right)} + 9 \\cos{\\left(3 x \\right)}$"
          },
          "metadata": {}
        },
        {
          "output_type": "stream",
          "name": "stdout",
          "text": [
            "\n",
            "                      (b)          \n",
            "\n",
            "After 1st Derivative\n"
          ]
        },
        {
          "output_type": "display_data",
          "data": {
            "text/plain": [
              "-27*sin(3*x) - 30*cos(3*x)"
            ],
            "text/latex": "$\\displaystyle - 27 \\sin{\\left(3 x \\right)} - 30 \\cos{\\left(3 x \\right)}$"
          },
          "metadata": {}
        },
        {
          "output_type": "stream",
          "name": "stdout",
          "text": [
            "\n",
            "After 2nd Derivative\n"
          ]
        },
        {
          "output_type": "display_data",
          "data": {
            "text/plain": [
              "9*(10*sin(3*x) - 9*cos(3*x))"
            ],
            "text/latex": "$\\displaystyle 9 \\cdot \\left(10 \\sin{\\left(3 x \\right)} - 9 \\cos{\\left(3 x \\right)}\\right)$"
          },
          "metadata": {}
        },
        {
          "output_type": "stream",
          "name": "stdout",
          "text": [
            "\n",
            "The roots of given equations are :\n"
          ]
        },
        {
          "output_type": "display_data",
          "data": {
            "text/plain": [
              "{-4*pi/3 - atan(10/9)/3, -pi - atan(10/9)/3, -2*pi/3 - atan(10/9)/3, -pi/3 - atan(10/9)/3, pi - atan(10/9)/3, -atan(10/9)/3 + pi/3, -atan(10/9)/3 + 2*pi/3, -atan(10/9)/3 + 4*pi/3, -atan(10/9)/3 + 5*pi/3, -atan(10/9)/3 + 2*pi, -atan(10/9)/3 + 7*pi/3, -atan(10/9)/3}"
            ],
            "text/latex": "$\\displaystyle \\left\\{- \\frac{4 \\pi}{3} - \\frac{\\operatorname{atan}{\\left(\\frac{10}{9} \\right)}}{3}, - \\pi - \\frac{\\operatorname{atan}{\\left(\\frac{10}{9} \\right)}}{3}, - \\frac{2 \\pi}{3} - \\frac{\\operatorname{atan}{\\left(\\frac{10}{9} \\right)}}{3}, - \\frac{\\pi}{3} - \\frac{\\operatorname{atan}{\\left(\\frac{10}{9} \\right)}}{3}, \\pi - \\frac{\\operatorname{atan}{\\left(\\frac{10}{9} \\right)}}{3}, - \\frac{\\operatorname{atan}{\\left(\\frac{10}{9} \\right)}}{3} + \\frac{\\pi}{3}, - \\frac{\\operatorname{atan}{\\left(\\frac{10}{9} \\right)}}{3} + \\frac{2 \\pi}{3}, - \\frac{\\operatorname{atan}{\\left(\\frac{10}{9} \\right)}}{3} + \\frac{4 \\pi}{3}, - \\frac{\\operatorname{atan}{\\left(\\frac{10}{9} \\right)}}{3} + \\frac{5 \\pi}{3}, - \\frac{\\operatorname{atan}{\\left(\\frac{10}{9} \\right)}}{3} + 2 \\pi, - \\frac{\\operatorname{atan}{\\left(\\frac{10}{9} \\right)}}{3} + \\frac{7 \\pi}{3}, - \\frac{\\operatorname{atan}{\\left(\\frac{10}{9} \\right)}}{3}\\right\\}$"
          },
          "metadata": {}
        },
        {
          "output_type": "stream",
          "name": "stdout",
          "text": [
            "\n",
            "Results\n",
            "Maxima = sqrt(181) for x = -atan(10/9)/3\n",
            "Minima = -sqrt(181) for x = pi - atan(10/9)/3\n",
            "Maxima = sqrt(181) for x = -4*pi/3 - atan(10/9)/3\n",
            "Minima = -sqrt(181) for x = -pi - atan(10/9)/3\n",
            "Maxima = sqrt(181) for x = -2*pi/3 - atan(10/9)/3\n",
            "Minima = -sqrt(181) for x = -pi/3 - atan(10/9)/3\n",
            "Minima = -sqrt(181) for x = -atan(10/9)/3 + pi/3\n",
            "Maxima = sqrt(181) for x = -atan(10/9)/3 + 2*pi/3\n",
            "Maxima = sqrt(181) for x = -atan(10/9)/3 + 4*pi/3\n",
            "Minima = -sqrt(181) for x = -atan(10/9)/3 + 5*pi/3\n",
            "Maxima = sqrt(181) for x = -atan(10/9)/3 + 2*pi\n",
            "Minima = -sqrt(181) for x = -atan(10/9)/3 + 7*pi/3\n",
            "\n",
            "Plotting\n"
          ]
        },
        {
          "output_type": "display_data",
          "data": {
            "text/plain": [
              "<Figure size 640x480 with 1 Axes>"
            ],
            "image/png": "[encoded data removed]"
          },
          "metadata": {}
        }
      ]
    },
    {
      "cell_type": "markdown",
      "source": [
        "**Question-2(a)**"
      ],
      "metadata": {
        "id": "Gh1SuzHRmWaG"
      }
    },
    {
      "cell_type": "code",
      "source": [
        "import sympy as sp\n",
        "import math as mt\n",
        "import numpy as np\n",
        "x , y , z ,a , b , c = sp.symbols('x , y , z , a , b , c')\n",
        "f = a*x**3+b*x**2*y-c*z**3\n",
        "print()\n",
        "print ('Given Equatiion')\n",
        "print()\n",
        "display(f)\n",
        "def dev_one(m) :\n",
        "    return sp.diff(f , m)\n",
        "def dev_two(n) :\n",
        "    return sp.diff(f , n , 2)\n",
        "print()\n",
        "print('After 1st Derivative with respect to x')\n",
        "\n",
        "df_x = dev_one(x)\n",
        "display(df_x)\n",
        "print()\n",
        "print('After 2nd Derivative with respect to x')\n",
        "\n",
        "dff_x = dev_two(x)\n",
        "display(dff_x)\n",
        "print('After 1st Derivative with respect to y')\n",
        "\n",
        "df_y = dev_one(y)\n",
        "display(df_y)\n",
        "print()\n",
        "print('After 2nd Derivative with respect to y')\n",
        "\n",
        "dff_y = dev_two(y)\n",
        "display(dff_y)\n",
        "print()\n",
        "print('After 1st Derivative with respect to z')\n",
        "\n",
        "df_z = dev_one(z)\n",
        "\n",
        "display(df_z)\n",
        "print()\n",
        "print('After 2nd Derivative with respect to z')\n",
        "\n",
        "dff_z = dev_two(z)\n",
        "display(dff_z)\n",
        "print()\n",
        "print('The Required Laplacian')\n",
        "\n",
        "Laplacian = dff_x + dff_y + dff_z\n",
        "display(Laplacian)\n",
        "print()\n",
        "print('The Required Laplacian at point (2, -1, 1)')\n",
        "\n",
        "laplacian = Laplacian.subs(x, 2)\n",
        "laplacian = laplacian.subs(y, -1)\n",
        "laplacian = laplacian.subs(z, 1)\n",
        "display(laplacian)"
      ],
      "metadata": {
        "colab": {
          "base_uri": "https://localhost:8080/",
          "height": 520
        },
        "id": "wOlX6HlPmd3e",
        "outputId": "6451d006-3f77-4e7c-d720-c6533039a8e8"
      },
      "execution_count": 25,
      "outputs": [
        {
          "output_type": "stream",
          "name": "stdout",
          "text": [
            "\n",
            "Given Equatiion\n",
            "\n"
          ]
        },
        {
          "output_type": "display_data",
          "data": {
            "text/plain": [
              "a*x**3 + b*x**2*y - c*z**3"
            ],
            "text/latex": "$\\displaystyle a x^{3} + b x^{2} y - c z^{3}$"
          },
          "metadata": {}
        },
        {
          "output_type": "stream",
          "name": "stdout",
          "text": [
            "\n",
            "After 1st Derivative with respect to x\n"
          ]
        },
        {
          "output_type": "display_data",
          "data": {
            "text/plain": [
              "3*a*x**2 + 2*b*x*y"
            ],
            "text/latex": "$\\displaystyle 3 a x^{2} + 2 b x y$"
          },
          "metadata": {}
        },
        {
          "output_type": "stream",
          "name": "stdout",
          "text": [
            "\n",
            "After 2nd Derivative with respect to x\n"
          ]
        },
        {
          "output_type": "display_data",
          "data": {
            "text/plain": [
              "2*(3*a*x + b*y)"
            ],
            "text/latex": "$\\displaystyle 2 \\cdot \\left(3 a x + b y\\right)$"
          },
          "metadata": {}
        },
        {
          "output_type": "stream",
          "name": "stdout",
          "text": [
            "After 1st Derivative with respect to y\n"
          ]
        },
        {
          "output_type": "display_data",
          "data": {
            "text/plain": [
              "b*x**2"
            ],
            "text/latex": "$\\displaystyle b x^{2}$"
          },
          "metadata": {}
        },
        {
          "output_type": "stream",
          "name": "stdout",
          "text": [
            "\n",
            "After 2nd Derivative with respect to y\n"
          ]
        },
        {
          "output_type": "display_data",
          "data": {
            "text/plain": [
              "0"
            ],
            "text/latex": "$\\displaystyle 0$"
          },
          "metadata": {}
        },
        {
          "output_type": "stream",
          "name": "stdout",
          "text": [
            "\n",
            "After 1st Derivative with respect to z\n"
          ]
        },
        {
          "output_type": "display_data",
          "data": {
            "text/plain": [
              "-3*c*z**2"
            ],
            "text/latex": "$\\displaystyle - 3 c z^{2}$"
          },
          "metadata": {}
        },
        {
          "output_type": "stream",
          "name": "stdout",
          "text": [
            "\n",
            "After 2nd Derivative with respect to z\n"
          ]
        },
        {
          "output_type": "display_data",
          "data": {
            "text/plain": [
              "-6*c*z"
            ],
            "text/latex": "$\\displaystyle - 6 c z$"
          },
          "metadata": {}
        },
        {
          "output_type": "stream",
          "name": "stdout",
          "text": [
            "\n",
            "The Required Laplacian\n"
          ]
        },
        {
          "output_type": "display_data",
          "data": {
            "text/plain": [
              "-6*c*z + 2*(3*a*x + b*y)"
            ],
            "text/latex": "$\\displaystyle - 6 c z + 2 \\cdot \\left(3 a x + b y\\right)$"
          },
          "metadata": {}
        },
        {
          "output_type": "stream",
          "name": "stdout",
          "text": [
            "\n",
            "The Required Laplacian at point (2, -1, 1)\n"
          ]
        },
        {
          "output_type": "display_data",
          "data": {
            "text/plain": [
              "12*a - 2*b - 6*c"
            ],
            "text/latex": "$\\displaystyle 12 a - 2 b - 6 c$"
          },
          "metadata": {}
        }
      ]
    },
    {
      "cell_type": "markdown",
      "source": [
        "**Question-2(b)**"
      ],
      "metadata": {
        "id": "nM4D7Vx8nIcu"
      }
    },
    {
      "cell_type": "code",
      "source": [
        "import math as mt\n",
        "number = 13.7\n",
        "factorial = mt.gamma(number+1)\n",
        "\n",
        "print(f\"The factorial of {number} is {factorial}.\")\n"
      ],
      "metadata": {
        "colab": {
          "base_uri": "https://localhost:8080/"
        },
        "id": "WH9v6tLZnQid",
        "outputId": "c4706d66-b2a6-4a37-b82c-32892a35b0b7"
      },
      "execution_count": 18,
      "outputs": [
        {
          "output_type": "stream",
          "name": "stdout",
          "text": [
            "The factorial of 13.7 is 39203858337.20441.\n"
          ]
        }
      ]
    },
    {
      "cell_type": "markdown",
      "source": [
        "**Question-2(c)**"
      ],
      "metadata": {
        "id": "4Gr05O8pn8bZ"
      }
    },
    {
      "cell_type": "code",
      "source": [
        "from sympy import *\n",
        "import numpy as np\n",
        "x , p , q = symbols('x , p , q')\n",
        "f = 1/(((p**2)*(cos(x)**2))+(((1+q)**2)*sin(x)**2))\n",
        "\n",
        "display(f)\n",
        "print ('After putting p = 3 and q = 1')\n",
        "f = f.subs(p , 3)\n",
        "f = f.subs(q , 1)\n",
        "display(f)\n",
        "Answer = integrate(f , (x , 0 , np.pi/2))\n",
        "print()\n",
        "print('Answer')\n",
        "display(Answer)"
      ],
      "metadata": {
        "colab": {
          "base_uri": "https://localhost:8080/",
          "height": 212
        },
        "id": "8Jk_JMtWoC6G",
        "outputId": "11de3a79-9d08-408a-cc77-379a89b7ea99"
      },
      "execution_count": 26,
      "outputs": [
        {
          "output_type": "display_data",
          "data": {
            "text/plain": [
              "1/(p**2*cos(x)**2 + (q + 1)**2*sin(x)**2)"
            ],
            "text/latex": "$\\displaystyle \\frac{1}{p^{2} \\cos^{2}{\\left(x \\right)} + \\left(q + 1\\right)^{2} \\sin^{2}{\\left(x \\right)}}$"
          },
          "metadata": {}
        },
        {
          "output_type": "stream",
          "name": "stdout",
          "text": [
            "After putting p = 3 and q = 1\n"
          ]
        },
        {
          "output_type": "display_data",
          "data": {
            "text/plain": [
              "1/(4*sin(x)**2 + 9*cos(x)**2)"
            ],
            "text/latex": "$\\displaystyle \\frac{1}{4 \\sin^{2}{\\left(x \\right)} + 9 \\cos^{2}{\\left(x \\right)}}$"
          },
          "metadata": {}
        },
        {
          "output_type": "stream",
          "name": "stdout",
          "text": [
            "\n",
            "Answer\n"
          ]
        },
        {
          "output_type": "display_data",
          "data": {
            "text/plain": [
              "Integral(1/(4*sin(x)**2 + 9*cos(x)**2), (x, 0, 1.5707963267949))"
            ],
            "text/latex": "$\\displaystyle \\int\\limits_{0}^{1.5707963267949} \\frac{1}{4 \\sin^{2}{\\left(x \\right)} + 9 \\cos^{2}{\\left(x \\right)}}\\, dx$"
          },
          "metadata": {}
        }
      ]
    },
    {
      "cell_type": "markdown",
      "source": [
        "**Question-2(d)**"
      ],
      "metadata": {
        "id": "Ab0GERlLryFg"
      }
    },
    {
      "cell_type": "code",
      "source": [
        "import sympy as sp\n",
        "import numpy as np\n",
        "x = sp.Symbol('x')\n",
        "print ('Given Equatiion')\n",
        "f = -2*x-0.1*x**3\n",
        "print(\"F=\")\n",
        "display(f)\n",
        "print()\n",
        "print('Results')\n",
        "result = sp.integrate(f , ( x , 0 , 2))\n",
        "print(f\"The work required to move it from x=0 to x=2 is {round(result , 2)} J\")"
      ],
      "metadata": {
        "colab": {
          "base_uri": "https://localhost:8080/",
          "height": 125
        },
        "id": "dHj3OY-QoDQX",
        "outputId": "4e3a2508-c9d0-421d-d00a-636aeb71bfe6"
      },
      "execution_count": 44,
      "outputs": [
        {
          "output_type": "stream",
          "name": "stdout",
          "text": [
            "Given Equatiion\n",
            "F=\n"
          ]
        },
        {
          "output_type": "display_data",
          "data": {
            "text/plain": [
              "-0.1*x**3 - 2*x"
            ],
            "text/latex": "$\\displaystyle - 0.1 x^{3} - 2 x$"
          },
          "metadata": {}
        },
        {
          "output_type": "stream",
          "name": "stdout",
          "text": [
            "\n",
            "Results\n",
            "The work required to move it from x=0 to x=2 is -4.40 J\n"
          ]
        }
      ]
    }
  ]
}